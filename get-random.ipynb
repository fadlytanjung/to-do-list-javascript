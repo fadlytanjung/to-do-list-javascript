{
 "cells": [
  {
   "cell_type": "code",
   "execution_count": 54,
   "id": "83947053-ca3d-4654-ad9b-9d55912ce205",
   "metadata": {},
   "outputs": [],
   "source": [
    "import pandas as pd\n",
    "import numpy as np"
   ]
  },
  {
   "cell_type": "code",
   "execution_count": 55,
   "id": "409f8df2-4c5f-4858-906e-5a3c891b7ad5",
   "metadata": {},
   "outputs": [],
   "source": [
    "df = pd.read_csv('data-tim-11.csv')"
   ]
  },
  {
   "cell_type": "code",
   "execution_count": 56,
   "id": "1ae63f28-4a34-4e05-8a98-9bc954fd5f10",
   "metadata": {},
   "outputs": [],
   "source": [
    "new_df = df.sample(n=2000)\n",
    "new_df = new_df.replace({np.nan: None})"
   ]
  },
  {
   "cell_type": "code",
   "execution_count": 57,
   "id": "bb7631e3-fcf9-41a7-a6a0-bc7aac15a75d",
   "metadata": {},
   "outputs": [
    {
     "data": {
      "text/plain": [
       "Index(['BOROUGH', 'NEIGHBORHOOD', 'BUILDING CLASS CATEGORY',\n",
       "       'TAX CLASS AT PRESENT', 'BLOCK', 'LOT', 'BUILDING CLASS AT PRESENT',\n",
       "       'ADDRESS', 'ZIP CODE', 'RESIDENTIAL UNITS', 'COMMERCIAL UNITS',\n",
       "       'TOTAL UNITS', 'LAND SQUARE FEET', 'GROSS SQUARE FEET', 'YEAR BUILT',\n",
       "       'TAX CLASS AT TIME OF SALE', 'BUILDING CLASS AT TIME OF SALE',\n",
       "       'SALE PRICE', 'SALE DATE'],\n",
       "      dtype='object')"
      ]
     },
     "execution_count": 57,
     "metadata": {},
     "output_type": "execute_result"
    }
   ],
   "source": [
    "col = new_df.columns\n",
    "col"
   ]
  },
  {
   "cell_type": "code",
   "execution_count": 58,
   "id": "61a5f501-4050-4d8d-99ac-60b34295c6bf",
   "metadata": {},
   "outputs": [],
   "source": [
    "map_data = new_df.values"
   ]
  },
  {
   "cell_type": "code",
   "execution_count": 59,
   "id": "613add79-2f20-42d2-8b18-37bd6734f91b",
   "metadata": {},
   "outputs": [],
   "source": [
    "temp = []"
   ]
  },
  {
   "cell_type": "code",
   "execution_count": 60,
   "id": "61beb3a5-92b9-4c10-bfea-9cbab0df6db4",
   "metadata": {},
   "outputs": [],
   "source": [
    "for i in range(len(map_data)):\n",
    "    item = {\n",
    "        col[0]: map_data[i][0],\n",
    "        col[1]: map_data[i][1],\n",
    "        col[2]: map_data[i][2],\n",
    "        col[3]: map_data[i][3],\n",
    "        col[4]: map_data[i][4],\n",
    "        col[5]: map_data[i][5],\n",
    "        col[6]: map_data[i][6],\n",
    "        col[7]: map_data[i][7],\n",
    "        col[8]: map_data[i][8],\n",
    "        col[9]: map_data[i][9],\n",
    "        col[10]: map_data[i][10],\n",
    "        col[11]: map_data[i][11],\n",
    "        col[12]: map_data[i][12],\n",
    "        col[13]: map_data[i][13],\n",
    "        col[14]: map_data[i][14],\n",
    "        col[15]: map_data[i][15],\n",
    "        col[16]: map_data[i][16],\n",
    "        col[17]: map_data[i][17],\n",
    "        col[18]: map_data[i][18],\n",
    "    }\n",
    "    temp.append(item)"
   ]
  },
  {
   "cell_type": "code",
   "execution_count": 61,
   "id": "b7aeac56-bfec-41ec-a4f1-28485ccd6e01",
   "metadata": {},
   "outputs": [],
   "source": [
    "import json"
   ]
  },
  {
   "cell_type": "code",
   "execution_count": 62,
   "id": "b0da4197-f31d-41c5-a9f0-a9b4a95e4cf0",
   "metadata": {},
   "outputs": [],
   "source": [
    "# Directly from the dictionary\n",
    "with open('data-tim-11.json', 'w+') as outfile:\n",
    "    json.dump(temp, outfile)"
   ]
  },
  {
   "cell_type": "code",
   "execution_count": null,
   "id": "ee0d21e7-c1d0-46ac-83a1-5eab6bbbbc73",
   "metadata": {},
   "outputs": [],
   "source": []
  }
 ],
 "metadata": {
  "kernelspec": {
   "display_name": "Python 3 (ipykernel)",
   "language": "python",
   "name": "python3"
  },
  "language_info": {
   "codemirror_mode": {
    "name": "ipython",
    "version": 3
   },
   "file_extension": ".py",
   "mimetype": "text/x-python",
   "name": "python",
   "nbconvert_exporter": "python",
   "pygments_lexer": "ipython3",
   "version": "3.11.7"
  }
 },
 "nbformat": 4,
 "nbformat_minor": 5
}
